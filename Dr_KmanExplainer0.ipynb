{
  "nbformat": 4,
  "nbformat_minor": 0,
  "metadata": {
    "colab": {
      "provenance": [],
      "authorship_tag": "ABX9TyPaLggIrH98CjRAEtjdna/M",
      "include_colab_link": true
    },
    "kernelspec": {
      "name": "python3",
      "display_name": "Python 3"
    },
    "language_info": {
      "name": "python"
    }
  },
  "cells": [
    {
      "cell_type": "markdown",
      "metadata": {
        "id": "view-in-github",
        "colab_type": "text"
      },
      "source": [
        "<a href=\"https://colab.research.google.com/github/Kman503/AI-Block4-2223/blob/main/Dr_KmanExplainer0.ipynb\" target=\"_parent\"><img src=\"https://colab.research.google.com/assets/colab-badge.svg\" alt=\"Open In Colab\"/></a>"
      ]
    },
    {
      "cell_type": "code",
      "execution_count": null,
      "metadata": {
        "id": "_FEzy-tfCJIE"
      },
      "outputs": [],
      "source": [
        "Machine learning vs AI\n",
        "- artificial intelligence refers to the general ability of computers to emulate human thought and perform tasks in real-world environments\n",
        "- machine learning refers to the technologies and algorithms that enable systems to identify patterns, make decisions, and improve themselves through experience"
      ]
    },
    {
      "cell_type": "code",
      "source": [
        "Fast ai and why it is useful\n",
        "- deep learning library which provides practitioners with high-level components that can quickly and easily provide state-of-the-art results in standard deep learning domains\n",
        "- provides researchers with low-level components that can be mixed and matched to build new approaches"
      ],
      "metadata": {
        "id": "37rCFOJCCkee"
      },
      "execution_count": null,
      "outputs": []
    }
  ]
}