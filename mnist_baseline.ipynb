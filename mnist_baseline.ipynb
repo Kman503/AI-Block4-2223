{
  "nbformat": 4,
  "nbformat_minor": 0,
  "metadata": {
    "colab": {
      "provenance": [],
      "include_colab_link": true
    },
    "kernelspec": {
      "name": "python3",
      "display_name": "Python 3"
    },
    "language_info": {
      "name": "python"
    }
  },
  "cells": [
    {
      "cell_type": "markdown",
      "metadata": {
        "id": "view-in-github",
        "colab_type": "text"
      },
      "source": [
        "<a href=\"https://colab.research.google.com/github/Kman503/AI-Block4-2223/blob/main/mnist_baseline.ipynb\" target=\"_parent\"><img src=\"https://colab.research.google.com/assets/colab-badge.svg\" alt=\"Open In Colab\"/></a>"
      ]
    },
    {
      "cell_type": "code",
      "source": [
        "#hide\n",
        "! [ -e /content ] && pip install -Uqq fastbook\n",
        "import fastbook\n",
        "fastbook.setup_book()"
      ],
      "metadata": {
        "colab": {
          "base_uri": "https://localhost:8080/"
        },
        "id": "kVv38je2sWuG",
        "outputId": "0387f2d3-5473-40b9-a18f-450da44704fe"
      },
      "execution_count": 1,
      "outputs": [
        {
          "output_type": "stream",
          "name": "stdout",
          "text": [
            "\u001b[K     |████████████████████████████████| 719 kB 6.1 MB/s \n",
            "\u001b[K     |████████████████████████████████| 1.3 MB 54.8 MB/s \n",
            "\u001b[K     |████████████████████████████████| 441 kB 57.3 MB/s \n",
            "\u001b[K     |████████████████████████████████| 5.3 MB 44.4 MB/s \n",
            "\u001b[K     |████████████████████████████████| 1.6 MB 34.9 MB/s \n",
            "\u001b[K     |████████████████████████████████| 163 kB 43.5 MB/s \n",
            "\u001b[K     |████████████████████████████████| 212 kB 48.6 MB/s \n",
            "\u001b[K     |████████████████████████████████| 115 kB 15.7 MB/s \n",
            "\u001b[K     |████████████████████████████████| 127 kB 43.5 MB/s \n",
            "\u001b[K     |████████████████████████████████| 115 kB 12.8 MB/s \n",
            "\u001b[K     |████████████████████████████████| 7.6 MB 44.3 MB/s \n",
            "\u001b[?25hMounted at /content/gdrive\n"
          ]
        }
      ]
    },
    {
      "cell_type": "code",
      "execution_count": 2,
      "metadata": {
        "id": "fnn-MsaXmtZC"
      },
      "outputs": [],
      "source": [
        "#hide\n",
        "from fastai.vision.all import *\n",
        "from fastbook import *\n",
        "import numpy as np\n",
        "import random\n",
        "matplotlib.rc('image', cmap='Greys_r')"
      ]
    },
    {
      "cell_type": "code",
      "source": [
        "path = untar_data(URLs.MNIST)"
      ],
      "metadata": {
        "colab": {
          "base_uri": "https://localhost:8080/",
          "height": 37
        },
        "id": "DqIpeOJNrv4j",
        "outputId": "70e9a451-acce-47c0-d2cc-1fcbc81efb1b"
      },
      "execution_count": 3,
      "outputs": [
        {
          "output_type": "display_data",
          "data": {
            "text/plain": [
              "<IPython.core.display.HTML object>"
            ],
            "text/html": [
              "\n",
              "<style>\n",
              "    /* Turns off some styling */\n",
              "    progress {\n",
              "        /* gets rid of default border in Firefox and Opera. */\n",
              "        border: none;\n",
              "        /* Needs to be in here for Safari polyfill so background images work as expected. */\n",
              "        background-size: auto;\n",
              "    }\n",
              "    progress:not([value]), progress:not([value])::-webkit-progress-bar {\n",
              "        background: repeating-linear-gradient(45deg, #7e7e7e, #7e7e7e 10px, #5c5c5c 10px, #5c5c5c 20px);\n",
              "    }\n",
              "    .progress-bar-interrupted, .progress-bar-interrupted::-webkit-progress-bar {\n",
              "        background: #F44336;\n",
              "    }\n",
              "</style>\n"
            ]
          },
          "metadata": {}
        },
        {
          "output_type": "display_data",
          "data": {
            "text/plain": [
              "<IPython.core.display.HTML object>"
            ],
            "text/html": [
              "\n",
              "    <div>\n",
              "      <progress value='15687680' class='' max='15683414' style='width:300px; height:20px; vertical-align: middle;'></progress>\n",
              "      100.03% [15687680/15683414 00:00&lt;00:00]\n",
              "    </div>\n",
              "    "
            ]
          },
          "metadata": {}
        }
      ]
    },
    {
      "cell_type": "code",
      "source": [
        "Path.BASE_PATH = path"
      ],
      "metadata": {
        "id": "2X8QuQWIrz_b"
      },
      "execution_count": 4,
      "outputs": []
    },
    {
      "cell_type": "code",
      "source": [
        "path.ls()"
      ],
      "metadata": {
        "colab": {
          "base_uri": "https://localhost:8080/"
        },
        "id": "9x5WLM24r2jk",
        "outputId": "71980fa9-bb63-4022-bdfe-e9cb6c9fc60d"
      },
      "execution_count": 5,
      "outputs": [
        {
          "output_type": "execute_result",
          "data": {
            "text/plain": [
              "(#2) [Path('training'),Path('testing')]"
            ]
          },
          "metadata": {},
          "execution_count": 5
        }
      ]
    },
    {
      "cell_type": "code",
      "source": [
        "(path/'training').ls()"
      ],
      "metadata": {
        "colab": {
          "base_uri": "https://localhost:8080/"
        },
        "id": "WpeZwbuNr42d",
        "outputId": "61fe51a4-4764-44ac-cb9e-c5cb031cff1c"
      },
      "execution_count": 6,
      "outputs": [
        {
          "output_type": "execute_result",
          "data": {
            "text/plain": [
              "(#10) [Path('training/6'),Path('training/3'),Path('training/7'),Path('training/0'),Path('training/8'),Path('training/5'),Path('training/1'),Path('training/4'),Path('training/2'),Path('training/9')]"
            ]
          },
          "metadata": {},
          "execution_count": 6
        }
      ]
    },
    {
      "cell_type": "code",
      "source": [
        "file_lists = [(path/'training'/str(d)).ls().sorted() for d in range(10)]"
      ],
      "metadata": {
        "id": "HXMY5xivsAP3"
      },
      "execution_count": 7,
      "outputs": []
    },
    {
      "cell_type": "code",
      "source": [
        "stacked_tensors = [torch.stack(tensor_list).float]"
      ],
      "metadata": {
        "id": "CDllNO4sAyzS"
      },
      "execution_count": null,
      "outputs": []
    },
    {
      "cell_type": "code",
      "source": [
        "stacked_means = [stacked_tensor.mean(0) for tensor_list in stacked_tensors]"
      ],
      "metadata": {
        "id": "VQAr-hCx-R8g",
        "outputId": "1e258c00-0757-410f-9d7c-731265fbe6f2",
        "colab": {
          "base_uri": "https://localhost:8080/",
          "height": 169
        }
      },
      "execution_count": 9,
      "outputs": [
        {
          "output_type": "error",
          "ename": "NameError",
          "evalue": "ignored",
          "traceback": [
            "\u001b[0;31m---------------------------------------------------------------------------\u001b[0m",
            "\u001b[0;31mNameError\u001b[0m                                 Traceback (most recent call last)",
            "\u001b[0;32m<ipython-input-9-d8d45e397be2>\u001b[0m in \u001b[0;36m<module>\u001b[0;34m\u001b[0m\n\u001b[0;32m----> 1\u001b[0;31m \u001b[0mstacked_means\u001b[0m \u001b[0;34m=\u001b[0m \u001b[0;34m[\u001b[0m\u001b[0mstacked_tensor\u001b[0m\u001b[0;34m.\u001b[0m\u001b[0mmean\u001b[0m\u001b[0;34m(\u001b[0m\u001b[0;36m0\u001b[0m\u001b[0;34m)\u001b[0m \u001b[0;32mfor\u001b[0m \u001b[0mtensor_list\u001b[0m \u001b[0;32min\u001b[0m \u001b[0mstacked_tensors\u001b[0m\u001b[0;34m]\u001b[0m\u001b[0;34m\u001b[0m\u001b[0;34m\u001b[0m\u001b[0m\n\u001b[0m",
            "\u001b[0;31mNameError\u001b[0m: name 'stacked_tensors' is not defined"
          ]
        }
      ]
    },
    {
      "cell_type": "code",
      "source": [
        "for i in len(tensor_lists);\n",
        "  stacked_means = [stacked_tensors.mean(i)]"
      ],
      "metadata": {
        "id": "MNMcaMUb_O3E"
      },
      "execution_count": null,
      "outputs": []
    }
  ]
}